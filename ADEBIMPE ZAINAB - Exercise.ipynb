{
 "cells": [
  {
   "cell_type": "markdown",
   "metadata": {},
   "source": [
    "## EXERCISE\n",
    "Write a Python program that retrieves values a, b, and c from the user, calculates and prints the roots of a quadratic equation for any given values of a, b and c. The formula for quadratic equation is given by:  \n",
    "\n",
    "![image.png](image.png)"
   ]
  },
  {
   "cell_type": "code",
   "execution_count": null,
   "metadata": {},
   "outputs": [
    {
     "name": "stdout",
     "output_type": "stream",
     "text": [
      "a is : 1\n",
      "b is : -5\n",
      "c is : 6\n",
      "The roots of the quadractic equation with the parameters given are 3.0 and 2.0\n"
     ]
    }
   ],
   "source": [
    "a = float(input('a is : '))\r\n",
    "b = float(input('b is : '))\r\n",
    "c = float(input('c is : '))\r\n",
    "x = (-b + (b**2 - 4*a*c)**(1/2))/(2*a)\r\n",
    "y = (-b - (b**2 - 4*a*c)**(1/2))/(2*a)\r\n",
    "print (\"The roots of the quadractic equation with the parameters given are {} and {}\".format(x,y))"
   ]
  },
  {
   "cell_type": "code",
   "execution_count": null,
   "metadata": {},
   "outputs": [],
   "source": []
  },
  {
   "cell_type": "code",
   "execution_count": null,
   "metadata": {},
   "outputs": [],
   "source": []
  }
 ],
 "metadata": {
  "kernelspec": {
   "display_name": "Python 3 (ipykernel)",
   "language": "python",
   "name": "python3"
  },
  "language_info": {
   "codemirror_mode": {
    "name": "ipython",
    "version": 3
   },
   "file_extension": ".py",
   "mimetype": "text/x-python",
   "name": "python",
   "nbconvert_exporter": "python",
   "pygments_lexer": "ipython3",
   "version": "3.9.7"
  }
 },
 "nbformat": 4,
 "nbformat_minor": 5
}