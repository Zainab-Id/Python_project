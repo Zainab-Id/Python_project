{
 "cells": [
  {
   "cell_type": "markdown",
   "metadata": {},
   "source": [
    "### Exercise 1. BUILDING A CALCULATOR\n",
    "v = u + at\n",
    "Calulate when u,a,t are (10,15,7) (14,210,5) and (20,50,50) respectively\n",
    "1. Ask to input the values of u, a, and t respectively to get  the value of v\n",
    "2. Use a conditional statement to tell the driver to \n",
    "i. Stop if a>100\n",
    "ii. Go faster if a<40\n",
    "iii. He's doing well if a= 50\n",
    "iv. Anything apart from i-iii above, tell him to just drive"
   ]
  },
  {
   "cell_type": "code",
   "execution_count": null,
   "metadata": {
    "scrolled": false
   },
   "outputs": [],
   "source": [
    "u = float(input('Intial velocity: '))\n",
    "a = float(input('acceleration: '))\n",
    "t = float(input('Time taken: '))\n",
    "v = u + a * t\n",
    "print (f'Final velocity is {v}km/hr')\n",
    "if a > 100:\n",
    "\tprint (f'{v}km/hr is too high')\n",
    "\tprint ('Stop')\n",
    "elif a < 40:\n",
    "\tprint (f'{v}km/hr is low')\n",
    "\tprint ('Go faster')\n",
    "elif a == 50:\n",
    "\tprint ('{v}km\\hr is moderate')\n",
    "\tprint ('You\\'re doing well')\n",
    "else:\n",
    "\tprint ('Drive')\n"
   ]
  },
  {
   "cell_type": "markdown",
   "metadata": {},
   "source": [
    "### Exercise 2. SHOPPING\n",
    "You have 50 goods in your shop and each good costs $1000. A customer comes to buy from your store. If he or she buys half or more than half of the goods, offer him or her a discount of 10%. \n",
    "If he or she buys less than that, thank him or her for patronising your store. If they ask for more than what you have in store, apologize and tell them that you are out of stock. Also tell them the number of goods you have available.\n",
    "For each of the customer, make sure to calulate and give them their bill.\n",
    "Lastly regardless of whatever the customer buys, bif them goodbye and tell them to have a nice day.\n",
    "\n",
    "Write a code for all of these above."
   ]
  },
  {
   "cell_type": "code",
   "execution_count": 2,
   "metadata": {},
   "outputs": [
    {
     "name": "stdout",
     "output_type": "stream",
     "text": [
      "Total number of goods in the shop is 50\n",
      "Buy half or more than of the total number of goods in the shop and get a 10% discount\n",
      "number of goods bought by the customer: 111\n",
      "Amount of goods bought is $111000\n",
      "Amount is $111000\n",
      "Sorry,we don't have up to that in stock\n",
      "Thank you for patronizing Jayz store\n",
      "Goodbye and have a nice day\n"
     ]
    }
   ],
   "source": [
    "#shopping analysis#\n",
    "T = ('Total number of goods in the shop')\n",
    "print (f'{T} is 50')\n",
    "T = int(50)\n",
    "print ('Buy half or more than of the total number of goods in the shop and get a 10% discount')\n",
    "n = int(input('number of goods bought by the customer: '))\n",
    "A = 1000 * n\n",
    "print (f'Amount of goods bought is ${A}')\n",
    "D = 10/100 * A\n",
    "F = A - D\n",
    "if T >= n >= T/2:\n",
    "\tprint (f'Discount is ${D}')\n",
    "\tprint (f'Final amount to be paid is ${F}')\n",
    "elif n < T/2:\n",
    "    print (f'Your bill is ${A}')\n",
    "elif n > T:\n",
    "    print (f'Amount is ${A}')\n",
    "    print ('Sorry,we don\\'t have up to that in stock')\n",
    "print ('Thank you for patronizing Jayz store\\nGoodbye and have a nice day')\n",
    "    "
   ]
  },
  {
   "cell_type": "code",
   "execution_count": null,
   "metadata": {},
   "outputs": [],
   "source": []
  }
 ],
 "metadata": {
  "kernelspec": {
   "display_name": "Python 3 (ipykernel)",
   "language": "python",
   "name": "python3"
  },
  "language_info": {
   "codemirror_mode": {
    "name": "ipython",
    "version": 3
   },
   "file_extension": ".py",
   "mimetype": "text/x-python",
   "name": "python",
   "nbconvert_exporter": "python",
   "pygments_lexer": "ipython3",
   "version": "3.9.7"
  }
 },
 "nbformat": 4,
 "nbformat_minor": 5
}